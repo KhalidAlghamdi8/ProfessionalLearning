{
 "cells": [
  {
   "cell_type": "markdown",
   "metadata": {},
   "source": [
    "# Visualizing Networks"
   ]
  },
  {
   "cell_type": "code",
   "execution_count": 4,
   "metadata": {},
   "outputs": [],
   "source": [
    "%matplotlib inline \n",
    "\n",
    "import networkx as nx\n",
    "import matplotlib.pyplot as plt\n",
    "\n",
    "# read in the graph \n",
    "G = nx.read_gpickle('major_us_cities')"
   ]
  },
  {
   "cell_type": "code",
   "execution_count": 5,
   "metadata": {},
   "outputs": [
    {
     "ename": "AttributeError",
     "evalue": "'Graph' object has no attribute '_node'",
     "output_type": "error",
     "traceback": [
      "\u001b[1;31m---------------------------------------------------------------------------\u001b[0m",
      "\u001b[1;31mAttributeError\u001b[0m                            Traceback (most recent call last)",
      "\u001b[1;32mc:\\Users\\kalgh\\Desktop\\Learning\\Applied Data Science with Python\\Applied Social Network Analysis in Python\\Week 2\\Visualizing Graphs with NetworkX.ipynb Cell 3\u001b[0m in \u001b[0;36m<cell line: 3>\u001b[1;34m()\u001b[0m\n\u001b[0;32m      <a href='vscode-notebook-cell:/c%3A/Users/kalgh/Desktop/Learning/Applied%20Data%20Science%20with%20Python/Applied%20Social%20Network%20Analysis%20in%20Python/Week%202/Visualizing%20Graphs%20with%20NetworkX.ipynb#W2sZmlsZQ%3D%3D?line=0'>1</a>\u001b[0m \u001b[39m# draw the graph using the default spring layout\u001b[39;00m\n\u001b[0;32m      <a href='vscode-notebook-cell:/c%3A/Users/kalgh/Desktop/Learning/Applied%20Data%20Science%20with%20Python/Applied%20Social%20Network%20Analysis%20in%20Python/Week%202/Visualizing%20Graphs%20with%20NetworkX.ipynb#W2sZmlsZQ%3D%3D?line=1'>2</a>\u001b[0m plt\u001b[39m.\u001b[39mfigure(figsize\u001b[39m=\u001b[39m(\u001b[39m10\u001b[39m,\u001b[39m9\u001b[39m))\n\u001b[1;32m----> <a href='vscode-notebook-cell:/c%3A/Users/kalgh/Desktop/Learning/Applied%20Data%20Science%20with%20Python/Applied%20Social%20Network%20Analysis%20in%20Python/Week%202/Visualizing%20Graphs%20with%20NetworkX.ipynb#W2sZmlsZQ%3D%3D?line=2'>3</a>\u001b[0m nx\u001b[39m.\u001b[39;49mdraw_networkx(G)\n",
      "File \u001b[1;32mc:\\Users\\kalgh\\anaconda3\\envs\\tf\\lib\\site-packages\\networkx\\drawing\\nx_pylab.py:331\u001b[0m, in \u001b[0;36mdraw_networkx\u001b[1;34m(G, pos, arrows, with_labels, **kwds)\u001b[0m\n\u001b[0;32m    328\u001b[0m label_kwds \u001b[39m=\u001b[39m {k: v \u001b[39mfor\u001b[39;00m k, v \u001b[39min\u001b[39;00m kwds\u001b[39m.\u001b[39mitems() \u001b[39mif\u001b[39;00m k \u001b[39min\u001b[39;00m valid_label_kwds}\n\u001b[0;32m    330\u001b[0m \u001b[39mif\u001b[39;00m pos \u001b[39mis\u001b[39;00m \u001b[39mNone\u001b[39;00m:\n\u001b[1;32m--> 331\u001b[0m     pos \u001b[39m=\u001b[39m nx\u001b[39m.\u001b[39;49mdrawing\u001b[39m.\u001b[39;49mspring_layout(G)  \u001b[39m# default to spring layout\u001b[39;00m\n\u001b[0;32m    333\u001b[0m draw_networkx_nodes(G, pos, \u001b[39m*\u001b[39m\u001b[39m*\u001b[39mnode_kwds)\n\u001b[0;32m    334\u001b[0m draw_networkx_edges(G, pos, arrows\u001b[39m=\u001b[39marrows, \u001b[39m*\u001b[39m\u001b[39m*\u001b[39medge_kwds)\n",
      "File \u001b[1;32m<class 'networkx.utils.decorators.argmap'> compilation 9:4\u001b[0m, in \u001b[0;36margmap_spring_layout_6\u001b[1;34m(G, k, pos, fixed, iterations, threshold, weight, scale, center, dim, seed)\u001b[0m\n\u001b[0;32m      2\u001b[0m \u001b[39mfrom\u001b[39;00m \u001b[39mos\u001b[39;00m\u001b[39m.\u001b[39;00m\u001b[39mpath\u001b[39;00m \u001b[39mimport\u001b[39;00m splitext\n\u001b[0;32m      3\u001b[0m \u001b[39mfrom\u001b[39;00m \u001b[39mcontextlib\u001b[39;00m \u001b[39mimport\u001b[39;00m contextmanager\n\u001b[1;32m----> 4\u001b[0m \u001b[39mfrom\u001b[39;00m \u001b[39mpathlib\u001b[39;00m \u001b[39mimport\u001b[39;00m Path\n\u001b[0;32m      6\u001b[0m \u001b[39mimport\u001b[39;00m \u001b[39mnetworkx\u001b[39;00m \u001b[39mas\u001b[39;00m \u001b[39mnx\u001b[39;00m\n\u001b[0;32m      7\u001b[0m \u001b[39mfrom\u001b[39;00m \u001b[39mnetworkx\u001b[39;00m\u001b[39m.\u001b[39;00m\u001b[39mutils\u001b[39;00m \u001b[39mimport\u001b[39;00m create_random_state, create_py_random_state\n",
      "File \u001b[1;32mc:\\Users\\kalgh\\anaconda3\\envs\\tf\\lib\\site-packages\\networkx\\drawing\\layout.py:467\u001b[0m, in \u001b[0;36mspring_layout\u001b[1;34m(G, k, pos, fixed, iterations, threshold, weight, scale, center, dim, seed)\u001b[0m\n\u001b[0;32m    464\u001b[0m     pos_arr \u001b[39m=\u001b[39m \u001b[39mNone\u001b[39;00m\n\u001b[0;32m    465\u001b[0m     dom_size \u001b[39m=\u001b[39m \u001b[39m1\u001b[39m\n\u001b[1;32m--> 467\u001b[0m \u001b[39mif\u001b[39;00m \u001b[39mlen\u001b[39;49m(G) \u001b[39m==\u001b[39m \u001b[39m0\u001b[39m:\n\u001b[0;32m    468\u001b[0m     \u001b[39mreturn\u001b[39;00m {}\n\u001b[0;32m    469\u001b[0m \u001b[39mif\u001b[39;00m \u001b[39mlen\u001b[39m(G) \u001b[39m==\u001b[39m \u001b[39m1\u001b[39m:\n",
      "File \u001b[1;32mc:\\Users\\kalgh\\anaconda3\\envs\\tf\\lib\\site-packages\\networkx\\classes\\graph.py:450\u001b[0m, in \u001b[0;36mGraph.__len__\u001b[1;34m(self)\u001b[0m\n\u001b[0;32m    430\u001b[0m \u001b[39mdef\u001b[39;00m \u001b[39m__len__\u001b[39m(\u001b[39mself\u001b[39m):\n\u001b[0;32m    431\u001b[0m     \u001b[39m\"\"\"Returns the number of nodes in the graph. Use: 'len(G)'.\u001b[39;00m\n\u001b[0;32m    432\u001b[0m \n\u001b[0;32m    433\u001b[0m \u001b[39m    Returns\u001b[39;00m\n\u001b[1;32m   (...)\u001b[0m\n\u001b[0;32m    448\u001b[0m \n\u001b[0;32m    449\u001b[0m \u001b[39m    \"\"\"\u001b[39;00m\n\u001b[1;32m--> 450\u001b[0m     \u001b[39mreturn\u001b[39;00m \u001b[39mlen\u001b[39m(\u001b[39mself\u001b[39;49m\u001b[39m.\u001b[39;49m_node)\n",
      "\u001b[1;31mAttributeError\u001b[0m: 'Graph' object has no attribute '_node'"
     ]
    },
    {
     "data": {
      "text/plain": [
       "<Figure size 720x648 with 0 Axes>"
      ]
     },
     "metadata": {},
     "output_type": "display_data"
    }
   ],
   "source": [
    "# draw the graph using the default spring layout\n",
    "plt.figure(figsize=(10,9))\n",
    "nx.draw_networkx(G)"
   ]
  },
  {
   "cell_type": "code",
   "execution_count": null,
   "metadata": {},
   "outputs": [],
   "source": [
    "# See what layouts are available in networkX\n",
    "[x for x in nx.__dir__() if x.endswith('_layout')]"
   ]
  },
  {
   "cell_type": "code",
   "execution_count": null,
   "metadata": {},
   "outputs": [],
   "source": [
    "# Draw the graph using the random layout\n",
    "plt.figure(figsize=(10,9))\n",
    "pos = nx.random_layout(G)\n",
    "nx.draw_networkx(G, pos)"
   ]
  },
  {
   "cell_type": "code",
   "execution_count": null,
   "metadata": {},
   "outputs": [],
   "source": [
    "# Draw the graph using the circular layout\n",
    "plt.figure(figsize=(10,9))\n",
    "pos = nx.circular_layout(G)\n",
    "nx.draw_networkx(G, pos)"
   ]
  },
  {
   "cell_type": "code",
   "execution_count": null,
   "metadata": {},
   "outputs": [],
   "source": [
    "# Draw the graph using custom node positions\n",
    "plt.figure(figsize=(10,7))\n",
    "\n",
    "pos = nx.get_node_attributes(G, 'location')\n",
    "nx.draw_networkx(G, pos)"
   ]
  },
  {
   "cell_type": "code",
   "execution_count": null,
   "metadata": {},
   "outputs": [],
   "source": [
    "# Draw the graph adding alpha, removing labels, and softening edge color\n",
    "plt.figure(figsize=(10,7))\n",
    "\n",
    "nx.draw_networkx(G, pos, alpha=0.7, with_labels=False, edge_color='.4')\n",
    "\n",
    "plt.axis('off')\n",
    "plt.tight_layout();"
   ]
  },
  {
   "cell_type": "code",
   "execution_count": null,
   "metadata": {},
   "outputs": [],
   "source": [
    "# Draw graph with varying node color, node size, and edge width\n",
    "plt.figure(figsize=(10,7))\n",
    "\n",
    "node_color = [G.degree(v) for v in G]\n",
    "node_size = [0.0005*nx.get_node_attributes(G, 'population')[v] for v in G]\n",
    "edge_width = [0.0015*G[u][v]['weight'] for u,v in G.edges()]\n",
    "\n",
    "nx.draw_networkx(G, pos, node_size=node_size, \n",
    "                 node_color=node_color, alpha=0.7, with_labels=False, \n",
    "                 width=edge_width, edge_color='.4', cmap=plt.cm.Blues)\n",
    "\n",
    "plt.axis('off')\n",
    "plt.tight_layout();"
   ]
  },
  {
   "cell_type": "code",
   "execution_count": null,
   "metadata": {
    "scrolled": false
   },
   "outputs": [],
   "source": [
    "# Draw specific edges and add labels to specific nodes\n",
    "plt.figure(figsize=(10,7))\n",
    "\n",
    "node_color = [G.degree(v) for v in G]\n",
    "node_size = [0.0005*nx.get_node_attributes(G, 'population')[v] for v in G]\n",
    "edge_width = [0.0015*G[u][v]['weight'] for u,v in G.edges()]\n",
    "\n",
    "nx.draw_networkx(G, pos, node_size=node_size, \n",
    "                 node_color=node_color, alpha=0.7, with_labels=False, \n",
    "                 width=edge_width, edge_color='.4', cmap=plt.cm.Blues)\n",
    "\n",
    "\n",
    "greater_than_770 = [x for x in G.edges(data=True) if x[2]['weight']>770]\n",
    "nx.draw_networkx_edges(G, pos, edgelist=greater_than_770, edge_color='r', alpha=0.4, width=6)\n",
    "\n",
    "nx.draw_networkx_labels(G, pos, labels={'Los Angeles, CA': 'LA', 'New York, NY': 'NYC'}, font_size=18, font_color='w')\n",
    "\n",
    "plt.axis('off')\n",
    "plt.tight_layout();"
   ]
  }
 ],
 "metadata": {
  "kernelspec": {
   "display_name": "Python 3.9.12 ('tf')",
   "language": "python",
   "name": "python3"
  },
  "language_info": {
   "codemirror_mode": {
    "name": "ipython",
    "version": 3
   },
   "file_extension": ".py",
   "mimetype": "text/x-python",
   "name": "python",
   "nbconvert_exporter": "python",
   "pygments_lexer": "ipython3",
   "version": "3.9.12"
  },
  "vscode": {
   "interpreter": {
    "hash": "93a850cdd8e1ced0015abffd1c74857b7727d52a3b5bd3cee8894c4cf53924e5"
   }
  }
 },
 "nbformat": 4,
 "nbformat_minor": 2
}
