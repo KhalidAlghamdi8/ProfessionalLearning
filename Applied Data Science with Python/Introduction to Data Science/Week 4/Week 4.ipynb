{
 "cells": [
  {
   "cell_type": "markdown",
   "metadata": {},
   "source": [
    "Basic Statistical Testing\n"
   ]
  },
  {
   "cell_type": "code",
   "execution_count": 1,
   "metadata": {},
   "outputs": [],
   "source": [
    "import numpy as np\n",
    "import pandas as pd\n",
    "from scipy import stats\n"
   ]
  },
  {
   "cell_type": "code",
   "execution_count": 2,
   "metadata": {},
   "outputs": [
    {
     "data": {
      "text/html": [
       "<div>\n",
       "<style scoped>\n",
       "    .dataframe tbody tr th:only-of-type {\n",
       "        vertical-align: middle;\n",
       "    }\n",
       "\n",
       "    .dataframe tbody tr th {\n",
       "        vertical-align: top;\n",
       "    }\n",
       "\n",
       "    .dataframe thead th {\n",
       "        text-align: right;\n",
       "    }\n",
       "</style>\n",
       "<table border=\"1\" class=\"dataframe\">\n",
       "  <thead>\n",
       "    <tr style=\"text-align: right;\">\n",
       "      <th></th>\n",
       "      <th>student_id</th>\n",
       "      <th>assignment1_grade</th>\n",
       "      <th>assignment1_submission</th>\n",
       "      <th>assignment2_grade</th>\n",
       "      <th>assignment2_submission</th>\n",
       "      <th>assignment3_grade</th>\n",
       "      <th>assignment3_submission</th>\n",
       "      <th>assignment4_grade</th>\n",
       "      <th>assignment4_submission</th>\n",
       "      <th>assignment5_grade</th>\n",
       "      <th>assignment5_submission</th>\n",
       "      <th>assignment6_grade</th>\n",
       "      <th>assignment6_submission</th>\n",
       "    </tr>\n",
       "  </thead>\n",
       "  <tbody>\n",
       "    <tr>\n",
       "      <th>0</th>\n",
       "      <td>B73F2C11-70F0-E37D-8B10-1D20AFED50B1</td>\n",
       "      <td>92.733946</td>\n",
       "      <td>2015-11-02 06:55:34.282000000</td>\n",
       "      <td>83.030552</td>\n",
       "      <td>2015-11-09 02:22:58.938000000</td>\n",
       "      <td>67.164441</td>\n",
       "      <td>2015-11-12 08:58:33.998000000</td>\n",
       "      <td>53.011553</td>\n",
       "      <td>2015-11-16 01:21:24.663000000</td>\n",
       "      <td>47.710398</td>\n",
       "      <td>2015-11-20 13:24:59.692000000</td>\n",
       "      <td>38.168318</td>\n",
       "      <td>2015-11-22 18:31:15.934000000</td>\n",
       "    </tr>\n",
       "    <tr>\n",
       "      <th>1</th>\n",
       "      <td>98A0FAE0-A19A-13D2-4BB5-CFBFD94031D1</td>\n",
       "      <td>86.790821</td>\n",
       "      <td>2015-11-29 14:57:44.429000000</td>\n",
       "      <td>86.290821</td>\n",
       "      <td>2015-12-06 17:41:18.449000000</td>\n",
       "      <td>69.772657</td>\n",
       "      <td>2015-12-10 08:54:55.904000000</td>\n",
       "      <td>55.098125</td>\n",
       "      <td>2015-12-13 17:32:30.941000000</td>\n",
       "      <td>49.588313</td>\n",
       "      <td>2015-12-19 23:26:39.285000000</td>\n",
       "      <td>44.629482</td>\n",
       "      <td>2015-12-21 17:07:24.275000000</td>\n",
       "    </tr>\n",
       "    <tr>\n",
       "      <th>2</th>\n",
       "      <td>D0F62040-CEB0-904C-F563-2F8620916C4E</td>\n",
       "      <td>85.512541</td>\n",
       "      <td>2016-01-09 05:36:02.389000000</td>\n",
       "      <td>85.512541</td>\n",
       "      <td>2016-01-09 06:39:44.416000000</td>\n",
       "      <td>68.410033</td>\n",
       "      <td>2016-01-15 20:22:45.882000000</td>\n",
       "      <td>54.728026</td>\n",
       "      <td>2016-01-11 12:41:50.749000000</td>\n",
       "      <td>49.255224</td>\n",
       "      <td>2016-01-11 17:31:12.489000000</td>\n",
       "      <td>44.329701</td>\n",
       "      <td>2016-01-17 16:24:42.765000000</td>\n",
       "    </tr>\n",
       "    <tr>\n",
       "      <th>3</th>\n",
       "      <td>FFDF2B2C-F514-EF7F-6538-A6A53518E9DC</td>\n",
       "      <td>86.030665</td>\n",
       "      <td>2016-04-30 06:50:39.801000000</td>\n",
       "      <td>68.824532</td>\n",
       "      <td>2016-04-30 17:20:38.727000000</td>\n",
       "      <td>61.942079</td>\n",
       "      <td>2016-05-12 07:47:16.326000000</td>\n",
       "      <td>49.553663</td>\n",
       "      <td>2016-05-07 16:09:20.485000000</td>\n",
       "      <td>49.553663</td>\n",
       "      <td>2016-05-24 12:51:18.016000000</td>\n",
       "      <td>44.598297</td>\n",
       "      <td>2016-05-26 08:09:12.058000000</td>\n",
       "    </tr>\n",
       "    <tr>\n",
       "      <th>4</th>\n",
       "      <td>5ECBEEB6-F1CE-80AE-3164-E45E99473FB4</td>\n",
       "      <td>64.813800</td>\n",
       "      <td>2015-12-13 17:06:10.750000000</td>\n",
       "      <td>51.491040</td>\n",
       "      <td>2015-12-14 12:25:12.056000000</td>\n",
       "      <td>41.932832</td>\n",
       "      <td>2015-12-29 14:25:22.594000000</td>\n",
       "      <td>36.929549</td>\n",
       "      <td>2015-12-28 01:29:55.901000000</td>\n",
       "      <td>33.236594</td>\n",
       "      <td>2015-12-29 14:46:06.628000000</td>\n",
       "      <td>33.236594</td>\n",
       "      <td>2016-01-05 01:06:59.546000000</td>\n",
       "    </tr>\n",
       "  </tbody>\n",
       "</table>\n",
       "</div>"
      ],
      "text/plain": [
       "                             student_id  assignment1_grade  \\\n",
       "0  B73F2C11-70F0-E37D-8B10-1D20AFED50B1          92.733946   \n",
       "1  98A0FAE0-A19A-13D2-4BB5-CFBFD94031D1          86.790821   \n",
       "2  D0F62040-CEB0-904C-F563-2F8620916C4E          85.512541   \n",
       "3  FFDF2B2C-F514-EF7F-6538-A6A53518E9DC          86.030665   \n",
       "4  5ECBEEB6-F1CE-80AE-3164-E45E99473FB4          64.813800   \n",
       "\n",
       "          assignment1_submission  assignment2_grade  \\\n",
       "0  2015-11-02 06:55:34.282000000          83.030552   \n",
       "1  2015-11-29 14:57:44.429000000          86.290821   \n",
       "2  2016-01-09 05:36:02.389000000          85.512541   \n",
       "3  2016-04-30 06:50:39.801000000          68.824532   \n",
       "4  2015-12-13 17:06:10.750000000          51.491040   \n",
       "\n",
       "          assignment2_submission  assignment3_grade  \\\n",
       "0  2015-11-09 02:22:58.938000000          67.164441   \n",
       "1  2015-12-06 17:41:18.449000000          69.772657   \n",
       "2  2016-01-09 06:39:44.416000000          68.410033   \n",
       "3  2016-04-30 17:20:38.727000000          61.942079   \n",
       "4  2015-12-14 12:25:12.056000000          41.932832   \n",
       "\n",
       "          assignment3_submission  assignment4_grade  \\\n",
       "0  2015-11-12 08:58:33.998000000          53.011553   \n",
       "1  2015-12-10 08:54:55.904000000          55.098125   \n",
       "2  2016-01-15 20:22:45.882000000          54.728026   \n",
       "3  2016-05-12 07:47:16.326000000          49.553663   \n",
       "4  2015-12-29 14:25:22.594000000          36.929549   \n",
       "\n",
       "          assignment4_submission  assignment5_grade  \\\n",
       "0  2015-11-16 01:21:24.663000000          47.710398   \n",
       "1  2015-12-13 17:32:30.941000000          49.588313   \n",
       "2  2016-01-11 12:41:50.749000000          49.255224   \n",
       "3  2016-05-07 16:09:20.485000000          49.553663   \n",
       "4  2015-12-28 01:29:55.901000000          33.236594   \n",
       "\n",
       "          assignment5_submission  assignment6_grade  \\\n",
       "0  2015-11-20 13:24:59.692000000          38.168318   \n",
       "1  2015-12-19 23:26:39.285000000          44.629482   \n",
       "2  2016-01-11 17:31:12.489000000          44.329701   \n",
       "3  2016-05-24 12:51:18.016000000          44.598297   \n",
       "4  2015-12-29 14:46:06.628000000          33.236594   \n",
       "\n",
       "          assignment6_submission  \n",
       "0  2015-11-22 18:31:15.934000000  \n",
       "1  2015-12-21 17:07:24.275000000  \n",
       "2  2016-01-17 16:24:42.765000000  \n",
       "3  2016-05-26 08:09:12.058000000  \n",
       "4  2016-01-05 01:06:59.546000000  "
      ]
     },
     "execution_count": 2,
     "metadata": {},
     "output_type": "execute_result"
    }
   ],
   "source": [
    "df=pd.read_csv ('datasets/grades.csv')\n",
    "df.head()"
   ]
  },
  {
   "cell_type": "code",
   "execution_count": 3,
   "metadata": {},
   "outputs": [
    {
     "name": "stdout",
     "output_type": "stream",
     "text": [
      "There are 2315 rows and 13 columns\n"
     ]
    }
   ],
   "source": [
    "print('There are {} rows and {} columns'.format(df.shape[0], df.shape[1]))"
   ]
  },
  {
   "cell_type": "code",
   "execution_count": 4,
   "metadata": {},
   "outputs": [
    {
     "data": {
      "text/html": [
       "<div>\n",
       "<style scoped>\n",
       "    .dataframe tbody tr th:only-of-type {\n",
       "        vertical-align: middle;\n",
       "    }\n",
       "\n",
       "    .dataframe tbody tr th {\n",
       "        vertical-align: top;\n",
       "    }\n",
       "\n",
       "    .dataframe thead th {\n",
       "        text-align: right;\n",
       "    }\n",
       "</style>\n",
       "<table border=\"1\" class=\"dataframe\">\n",
       "  <thead>\n",
       "    <tr style=\"text-align: right;\">\n",
       "      <th></th>\n",
       "      <th>student_id</th>\n",
       "      <th>assignment1_grade</th>\n",
       "      <th>assignment1_submission</th>\n",
       "      <th>assignment2_grade</th>\n",
       "      <th>assignment2_submission</th>\n",
       "      <th>assignment3_grade</th>\n",
       "      <th>assignment3_submission</th>\n",
       "      <th>assignment4_grade</th>\n",
       "      <th>assignment4_submission</th>\n",
       "      <th>assignment5_grade</th>\n",
       "      <th>assignment5_submission</th>\n",
       "      <th>assignment6_grade</th>\n",
       "      <th>assignment6_submission</th>\n",
       "    </tr>\n",
       "  </thead>\n",
       "  <tbody>\n",
       "    <tr>\n",
       "      <th>0</th>\n",
       "      <td>B73F2C11-70F0-E37D-8B10-1D20AFED50B1</td>\n",
       "      <td>92.733946</td>\n",
       "      <td>2015-11-02 06:55:34.282000000</td>\n",
       "      <td>83.030552</td>\n",
       "      <td>2015-11-09 02:22:58.938000000</td>\n",
       "      <td>67.164441</td>\n",
       "      <td>2015-11-12 08:58:33.998000000</td>\n",
       "      <td>53.011553</td>\n",
       "      <td>2015-11-16 01:21:24.663000000</td>\n",
       "      <td>47.710398</td>\n",
       "      <td>2015-11-20 13:24:59.692000000</td>\n",
       "      <td>38.168318</td>\n",
       "      <td>2015-11-22 18:31:15.934000000</td>\n",
       "    </tr>\n",
       "    <tr>\n",
       "      <th>1</th>\n",
       "      <td>98A0FAE0-A19A-13D2-4BB5-CFBFD94031D1</td>\n",
       "      <td>86.790821</td>\n",
       "      <td>2015-11-29 14:57:44.429000000</td>\n",
       "      <td>86.290821</td>\n",
       "      <td>2015-12-06 17:41:18.449000000</td>\n",
       "      <td>69.772657</td>\n",
       "      <td>2015-12-10 08:54:55.904000000</td>\n",
       "      <td>55.098125</td>\n",
       "      <td>2015-12-13 17:32:30.941000000</td>\n",
       "      <td>49.588313</td>\n",
       "      <td>2015-12-19 23:26:39.285000000</td>\n",
       "      <td>44.629482</td>\n",
       "      <td>2015-12-21 17:07:24.275000000</td>\n",
       "    </tr>\n",
       "    <tr>\n",
       "      <th>4</th>\n",
       "      <td>5ECBEEB6-F1CE-80AE-3164-E45E99473FB4</td>\n",
       "      <td>64.813800</td>\n",
       "      <td>2015-12-13 17:06:10.750000000</td>\n",
       "      <td>51.491040</td>\n",
       "      <td>2015-12-14 12:25:12.056000000</td>\n",
       "      <td>41.932832</td>\n",
       "      <td>2015-12-29 14:25:22.594000000</td>\n",
       "      <td>36.929549</td>\n",
       "      <td>2015-12-28 01:29:55.901000000</td>\n",
       "      <td>33.236594</td>\n",
       "      <td>2015-12-29 14:46:06.628000000</td>\n",
       "      <td>33.236594</td>\n",
       "      <td>2016-01-05 01:06:59.546000000</td>\n",
       "    </tr>\n",
       "    <tr>\n",
       "      <th>5</th>\n",
       "      <td>D09000A0-827B-C0FF-3433-BF8FF286E15B</td>\n",
       "      <td>71.647278</td>\n",
       "      <td>2015-12-28 04:35:32.836000000</td>\n",
       "      <td>64.052550</td>\n",
       "      <td>2016-01-03 21:05:38.392000000</td>\n",
       "      <td>64.752550</td>\n",
       "      <td>2016-01-07 08:55:43.692000000</td>\n",
       "      <td>57.467295</td>\n",
       "      <td>2016-01-11 00:45:28.706000000</td>\n",
       "      <td>57.467295</td>\n",
       "      <td>2016-01-11 00:54:13.579000000</td>\n",
       "      <td>57.467295</td>\n",
       "      <td>2016-01-20 19:54:46.166000000</td>\n",
       "    </tr>\n",
       "    <tr>\n",
       "      <th>8</th>\n",
       "      <td>C9D51293-BD58-F113-4167-A7C0BAFCB6E5</td>\n",
       "      <td>66.595568</td>\n",
       "      <td>2015-12-25 02:29:28.415000000</td>\n",
       "      <td>52.916454</td>\n",
       "      <td>2015-12-31 01:42:30.046000000</td>\n",
       "      <td>48.344809</td>\n",
       "      <td>2016-01-05 23:34:02.180000000</td>\n",
       "      <td>47.444809</td>\n",
       "      <td>2016-01-02 07:48:42.517000000</td>\n",
       "      <td>37.955847</td>\n",
       "      <td>2016-01-03 21:27:04.266000000</td>\n",
       "      <td>37.955847</td>\n",
       "      <td>2016-01-19 15:24:31.060000000</td>\n",
       "    </tr>\n",
       "  </tbody>\n",
       "</table>\n",
       "</div>"
      ],
      "text/plain": [
       "                             student_id  assignment1_grade  \\\n",
       "0  B73F2C11-70F0-E37D-8B10-1D20AFED50B1          92.733946   \n",
       "1  98A0FAE0-A19A-13D2-4BB5-CFBFD94031D1          86.790821   \n",
       "4  5ECBEEB6-F1CE-80AE-3164-E45E99473FB4          64.813800   \n",
       "5  D09000A0-827B-C0FF-3433-BF8FF286E15B          71.647278   \n",
       "8  C9D51293-BD58-F113-4167-A7C0BAFCB6E5          66.595568   \n",
       "\n",
       "          assignment1_submission  assignment2_grade  \\\n",
       "0  2015-11-02 06:55:34.282000000          83.030552   \n",
       "1  2015-11-29 14:57:44.429000000          86.290821   \n",
       "4  2015-12-13 17:06:10.750000000          51.491040   \n",
       "5  2015-12-28 04:35:32.836000000          64.052550   \n",
       "8  2015-12-25 02:29:28.415000000          52.916454   \n",
       "\n",
       "          assignment2_submission  assignment3_grade  \\\n",
       "0  2015-11-09 02:22:58.938000000          67.164441   \n",
       "1  2015-12-06 17:41:18.449000000          69.772657   \n",
       "4  2015-12-14 12:25:12.056000000          41.932832   \n",
       "5  2016-01-03 21:05:38.392000000          64.752550   \n",
       "8  2015-12-31 01:42:30.046000000          48.344809   \n",
       "\n",
       "          assignment3_submission  assignment4_grade  \\\n",
       "0  2015-11-12 08:58:33.998000000          53.011553   \n",
       "1  2015-12-10 08:54:55.904000000          55.098125   \n",
       "4  2015-12-29 14:25:22.594000000          36.929549   \n",
       "5  2016-01-07 08:55:43.692000000          57.467295   \n",
       "8  2016-01-05 23:34:02.180000000          47.444809   \n",
       "\n",
       "          assignment4_submission  assignment5_grade  \\\n",
       "0  2015-11-16 01:21:24.663000000          47.710398   \n",
       "1  2015-12-13 17:32:30.941000000          49.588313   \n",
       "4  2015-12-28 01:29:55.901000000          33.236594   \n",
       "5  2016-01-11 00:45:28.706000000          57.467295   \n",
       "8  2016-01-02 07:48:42.517000000          37.955847   \n",
       "\n",
       "          assignment5_submission  assignment6_grade  \\\n",
       "0  2015-11-20 13:24:59.692000000          38.168318   \n",
       "1  2015-12-19 23:26:39.285000000          44.629482   \n",
       "4  2015-12-29 14:46:06.628000000          33.236594   \n",
       "5  2016-01-11 00:54:13.579000000          57.467295   \n",
       "8  2016-01-03 21:27:04.266000000          37.955847   \n",
       "\n",
       "          assignment6_submission  \n",
       "0  2015-11-22 18:31:15.934000000  \n",
       "1  2015-12-21 17:07:24.275000000  \n",
       "4  2016-01-05 01:06:59.546000000  \n",
       "5  2016-01-20 19:54:46.166000000  \n",
       "8  2016-01-19 15:24:31.060000000  "
      ]
     },
     "execution_count": 4,
     "metadata": {},
     "output_type": "execute_result"
    }
   ],
   "source": [
    "early_finishers = df[pd.to_datetime(df['assignment1_submission']) < '2016']\n",
    "early_finishers.head()"
   ]
  },
  {
   "cell_type": "code",
   "execution_count": 5,
   "metadata": {},
   "outputs": [
    {
     "name": "stdout",
     "output_type": "stream",
     "text": [
      "There are 1259 rows and 13 columns\n"
     ]
    }
   ],
   "source": [
    "print('There are {} rows and {} columns'.format(early_finishers.shape[0], early_finishers.shape[1]))"
   ]
  },
  {
   "cell_type": "code",
   "execution_count": 6,
   "metadata": {},
   "outputs": [
    {
     "data": {
      "text/html": [
       "<div>\n",
       "<style scoped>\n",
       "    .dataframe tbody tr th:only-of-type {\n",
       "        vertical-align: middle;\n",
       "    }\n",
       "\n",
       "    .dataframe tbody tr th {\n",
       "        vertical-align: top;\n",
       "    }\n",
       "\n",
       "    .dataframe thead th {\n",
       "        text-align: right;\n",
       "    }\n",
       "</style>\n",
       "<table border=\"1\" class=\"dataframe\">\n",
       "  <thead>\n",
       "    <tr style=\"text-align: right;\">\n",
       "      <th></th>\n",
       "      <th>student_id</th>\n",
       "      <th>assignment1_grade</th>\n",
       "      <th>assignment1_submission</th>\n",
       "      <th>assignment2_grade</th>\n",
       "      <th>assignment2_submission</th>\n",
       "      <th>assignment3_grade</th>\n",
       "      <th>assignment3_submission</th>\n",
       "      <th>assignment4_grade</th>\n",
       "      <th>assignment4_submission</th>\n",
       "      <th>assignment5_grade</th>\n",
       "      <th>assignment5_submission</th>\n",
       "      <th>assignment6_grade</th>\n",
       "      <th>assignment6_submission</th>\n",
       "    </tr>\n",
       "  </thead>\n",
       "  <tbody>\n",
       "    <tr>\n",
       "      <th>2</th>\n",
       "      <td>D0F62040-CEB0-904C-F563-2F8620916C4E</td>\n",
       "      <td>85.512541</td>\n",
       "      <td>2016-01-09 05:36:02.389000000</td>\n",
       "      <td>85.512541</td>\n",
       "      <td>2016-01-09 06:39:44.416000000</td>\n",
       "      <td>68.410033</td>\n",
       "      <td>2016-01-15 20:22:45.882000000</td>\n",
       "      <td>54.728026</td>\n",
       "      <td>2016-01-11 12:41:50.749000000</td>\n",
       "      <td>49.255224</td>\n",
       "      <td>2016-01-11 17:31:12.489000000</td>\n",
       "      <td>44.329701</td>\n",
       "      <td>2016-01-17 16:24:42.765000000</td>\n",
       "    </tr>\n",
       "    <tr>\n",
       "      <th>3</th>\n",
       "      <td>FFDF2B2C-F514-EF7F-6538-A6A53518E9DC</td>\n",
       "      <td>86.030665</td>\n",
       "      <td>2016-04-30 06:50:39.801000000</td>\n",
       "      <td>68.824532</td>\n",
       "      <td>2016-04-30 17:20:38.727000000</td>\n",
       "      <td>61.942079</td>\n",
       "      <td>2016-05-12 07:47:16.326000000</td>\n",
       "      <td>49.553663</td>\n",
       "      <td>2016-05-07 16:09:20.485000000</td>\n",
       "      <td>49.553663</td>\n",
       "      <td>2016-05-24 12:51:18.016000000</td>\n",
       "      <td>44.598297</td>\n",
       "      <td>2016-05-26 08:09:12.058000000</td>\n",
       "    </tr>\n",
       "    <tr>\n",
       "      <th>6</th>\n",
       "      <td>3217BE3F-E4B0-C3B6-9F64-462456819CE4</td>\n",
       "      <td>87.498744</td>\n",
       "      <td>2016-03-05 11:05:25.408000000</td>\n",
       "      <td>69.998995</td>\n",
       "      <td>2016-03-09 07:29:52.405000000</td>\n",
       "      <td>55.999196</td>\n",
       "      <td>2016-03-16 22:31:24.316000000</td>\n",
       "      <td>50.399276</td>\n",
       "      <td>2016-03-18 07:19:26.032000000</td>\n",
       "      <td>45.359349</td>\n",
       "      <td>2016-03-19 10:35:41.869000000</td>\n",
       "      <td>45.359349</td>\n",
       "      <td>2016-03-23 14:02:00.987000000</td>\n",
       "    </tr>\n",
       "    <tr>\n",
       "      <th>7</th>\n",
       "      <td>F1CB5AA1-B3DE-5460-FAFF-BE951FD38B5F</td>\n",
       "      <td>80.576090</td>\n",
       "      <td>2016-01-24 18:24:25.619000000</td>\n",
       "      <td>72.518481</td>\n",
       "      <td>2016-01-27 13:37:12.943000000</td>\n",
       "      <td>65.266633</td>\n",
       "      <td>2016-01-30 14:34:36.581000000</td>\n",
       "      <td>65.266633</td>\n",
       "      <td>2016-02-03 22:08:49.002000000</td>\n",
       "      <td>65.266633</td>\n",
       "      <td>2016-02-16 14:22:23.664000000</td>\n",
       "      <td>65.266633</td>\n",
       "      <td>2016-02-18 08:35:04.796000000</td>\n",
       "    </tr>\n",
       "    <tr>\n",
       "      <th>9</th>\n",
       "      <td>E2C617C2-4654-622C-AB50-1550C4BE42A0</td>\n",
       "      <td>59.270882</td>\n",
       "      <td>2016-03-06 12:06:26.185000000</td>\n",
       "      <td>59.270882</td>\n",
       "      <td>2016-03-13 02:07:25.289000000</td>\n",
       "      <td>53.343794</td>\n",
       "      <td>2016-03-17 07:30:09.241000000</td>\n",
       "      <td>53.343794</td>\n",
       "      <td>2016-03-20 21:45:56.229000000</td>\n",
       "      <td>42.675035</td>\n",
       "      <td>2016-03-27 15:55:04.414000000</td>\n",
       "      <td>38.407532</td>\n",
       "      <td>2016-03-30 20:33:13.554000000</td>\n",
       "    </tr>\n",
       "  </tbody>\n",
       "</table>\n",
       "</div>"
      ],
      "text/plain": [
       "                             student_id  assignment1_grade  \\\n",
       "2  D0F62040-CEB0-904C-F563-2F8620916C4E          85.512541   \n",
       "3  FFDF2B2C-F514-EF7F-6538-A6A53518E9DC          86.030665   \n",
       "6  3217BE3F-E4B0-C3B6-9F64-462456819CE4          87.498744   \n",
       "7  F1CB5AA1-B3DE-5460-FAFF-BE951FD38B5F          80.576090   \n",
       "9  E2C617C2-4654-622C-AB50-1550C4BE42A0          59.270882   \n",
       "\n",
       "          assignment1_submission  assignment2_grade  \\\n",
       "2  2016-01-09 05:36:02.389000000          85.512541   \n",
       "3  2016-04-30 06:50:39.801000000          68.824532   \n",
       "6  2016-03-05 11:05:25.408000000          69.998995   \n",
       "7  2016-01-24 18:24:25.619000000          72.518481   \n",
       "9  2016-03-06 12:06:26.185000000          59.270882   \n",
       "\n",
       "          assignment2_submission  assignment3_grade  \\\n",
       "2  2016-01-09 06:39:44.416000000          68.410033   \n",
       "3  2016-04-30 17:20:38.727000000          61.942079   \n",
       "6  2016-03-09 07:29:52.405000000          55.999196   \n",
       "7  2016-01-27 13:37:12.943000000          65.266633   \n",
       "9  2016-03-13 02:07:25.289000000          53.343794   \n",
       "\n",
       "          assignment3_submission  assignment4_grade  \\\n",
       "2  2016-01-15 20:22:45.882000000          54.728026   \n",
       "3  2016-05-12 07:47:16.326000000          49.553663   \n",
       "6  2016-03-16 22:31:24.316000000          50.399276   \n",
       "7  2016-01-30 14:34:36.581000000          65.266633   \n",
       "9  2016-03-17 07:30:09.241000000          53.343794   \n",
       "\n",
       "          assignment4_submission  assignment5_grade  \\\n",
       "2  2016-01-11 12:41:50.749000000          49.255224   \n",
       "3  2016-05-07 16:09:20.485000000          49.553663   \n",
       "6  2016-03-18 07:19:26.032000000          45.359349   \n",
       "7  2016-02-03 22:08:49.002000000          65.266633   \n",
       "9  2016-03-20 21:45:56.229000000          42.675035   \n",
       "\n",
       "          assignment5_submission  assignment6_grade  \\\n",
       "2  2016-01-11 17:31:12.489000000          44.329701   \n",
       "3  2016-05-24 12:51:18.016000000          44.598297   \n",
       "6  2016-03-19 10:35:41.869000000          45.359349   \n",
       "7  2016-02-16 14:22:23.664000000          65.266633   \n",
       "9  2016-03-27 15:55:04.414000000          38.407532   \n",
       "\n",
       "          assignment6_submission  \n",
       "2  2016-01-17 16:24:42.765000000  \n",
       "3  2016-05-26 08:09:12.058000000  \n",
       "6  2016-03-23 14:02:00.987000000  \n",
       "7  2016-02-18 08:35:04.796000000  \n",
       "9  2016-03-30 20:33:13.554000000  "
      ]
     },
     "execution_count": 6,
     "metadata": {},
     "output_type": "execute_result"
    }
   ],
   "source": [
    "late_finishers = df[pd.to_datetime(df['assignment1_submission']) > '2016']\n",
    "late_finishers.head()"
   ]
  },
  {
   "cell_type": "code",
   "execution_count": 7,
   "metadata": {},
   "outputs": [
    {
     "name": "stdout",
     "output_type": "stream",
     "text": [
      "There are 1056 rows and 13 columns\n"
     ]
    }
   ],
   "source": [
    "print('There are {} rows and {} columns'.format(late_finishers.shape[0], late_finishers.shape[1]))"
   ]
  },
  {
   "cell_type": "code",
   "execution_count": 9,
   "metadata": {},
   "outputs": [
    {
     "name": "stdout",
     "output_type": "stream",
     "text": [
      "74.94728457024303\n",
      "74.0450648477065\n"
     ]
    }
   ],
   "source": [
    "print(early_finishers['assignment1_grade'].mean())\n",
    "print(late_finishers['assignment1_grade'].mean())"
   ]
  },
  {
   "cell_type": "code",
   "execution_count": 10,
   "metadata": {},
   "outputs": [
    {
     "data": {
      "text/plain": [
       "Ttest_indResult(statistic=1.3223540853721596, pvalue=0.18618101101713855)"
      ]
     },
     "execution_count": 10,
     "metadata": {},
     "output_type": "execute_result"
    }
   ],
   "source": [
    "from scipy.stats import ttest_ind\n",
    "\n",
    "ttest_ind(early_finishers['assignment1_grade'], late_finishers['assignment1_grade'] )"
   ]
  },
  {
   "cell_type": "code",
   "execution_count": 12,
   "metadata": {},
   "outputs": [
    {
     "data": {
      "text/plain": [
       "Ttest_indResult(statistic=-0.11609743352612056, pvalue=0.9075854011989656)"
      ]
     },
     "execution_count": 12,
     "metadata": {},
     "output_type": "execute_result"
    }
   ],
   "source": [
    "ttest_ind(early_finishers['assignment2_grade'], late_finishers['assignment2_grade'] )\n",
    "ttest_ind(early_finishers['assignment3_grade'], late_finishers['assignment3_grade'] )\n",
    "ttest_ind(early_finishers['assignment4_grade'], late_finishers['assignment4_grade'] )\n",
    "ttest_ind(early_finishers['assignment5_grade'], late_finishers['assignment5_grade'] )\n",
    "ttest_ind(early_finishers['assignment6_grade'], late_finishers['assignment6_grade'] )"
   ]
  },
  {
   "cell_type": "code",
   "execution_count": 13,
   "metadata": {},
   "outputs": [
    {
     "data": {
      "text/plain": [
       "Ttest_indResult(statistic=1.6133726558705392, pvalue=0.10679998102227865)"
      ]
     },
     "execution_count": 13,
     "metadata": {},
     "output_type": "execute_result"
    }
   ],
   "source": [
    "ttest_ind(early_finishers['assignment3_grade'], late_finishers['assignment3_grade'] )"
   ]
  },
  {
   "cell_type": "code",
   "execution_count": 15,
   "metadata": {},
   "outputs": [
    {
     "data": {
      "text/html": [
       "<div>\n",
       "<style scoped>\n",
       "    .dataframe tbody tr th:only-of-type {\n",
       "        vertical-align: middle;\n",
       "    }\n",
       "\n",
       "    .dataframe tbody tr th {\n",
       "        vertical-align: top;\n",
       "    }\n",
       "\n",
       "    .dataframe thead th {\n",
       "        text-align: right;\n",
       "    }\n",
       "</style>\n",
       "<table border=\"1\" class=\"dataframe\">\n",
       "  <thead>\n",
       "    <tr style=\"text-align: right;\">\n",
       "      <th></th>\n",
       "      <th>0</th>\n",
       "      <th>1</th>\n",
       "      <th>2</th>\n",
       "      <th>3</th>\n",
       "      <th>4</th>\n",
       "      <th>5</th>\n",
       "      <th>6</th>\n",
       "      <th>7</th>\n",
       "      <th>8</th>\n",
       "      <th>9</th>\n",
       "      <th>...</th>\n",
       "      <th>90</th>\n",
       "      <th>91</th>\n",
       "      <th>92</th>\n",
       "      <th>93</th>\n",
       "      <th>94</th>\n",
       "      <th>95</th>\n",
       "      <th>96</th>\n",
       "      <th>97</th>\n",
       "      <th>98</th>\n",
       "      <th>99</th>\n",
       "    </tr>\n",
       "  </thead>\n",
       "  <tbody>\n",
       "    <tr>\n",
       "      <th>0</th>\n",
       "      <td>0.208493</td>\n",
       "      <td>0.359014</td>\n",
       "      <td>0.504179</td>\n",
       "      <td>0.029607</td>\n",
       "      <td>0.113707</td>\n",
       "      <td>0.475140</td>\n",
       "      <td>0.434928</td>\n",
       "      <td>0.099280</td>\n",
       "      <td>0.604671</td>\n",
       "      <td>0.488544</td>\n",
       "      <td>...</td>\n",
       "      <td>0.894786</td>\n",
       "      <td>0.932636</td>\n",
       "      <td>0.457053</td>\n",
       "      <td>0.956719</td>\n",
       "      <td>0.777191</td>\n",
       "      <td>0.635305</td>\n",
       "      <td>0.371690</td>\n",
       "      <td>0.655558</td>\n",
       "      <td>0.119018</td>\n",
       "      <td>0.617986</td>\n",
       "    </tr>\n",
       "    <tr>\n",
       "      <th>1</th>\n",
       "      <td>0.386023</td>\n",
       "      <td>0.810262</td>\n",
       "      <td>0.814432</td>\n",
       "      <td>0.497389</td>\n",
       "      <td>0.021548</td>\n",
       "      <td>0.822415</td>\n",
       "      <td>0.827690</td>\n",
       "      <td>0.856744</td>\n",
       "      <td>0.823128</td>\n",
       "      <td>0.605751</td>\n",
       "      <td>...</td>\n",
       "      <td>0.319145</td>\n",
       "      <td>0.469377</td>\n",
       "      <td>0.835118</td>\n",
       "      <td>0.796439</td>\n",
       "      <td>0.245195</td>\n",
       "      <td>0.622804</td>\n",
       "      <td>0.874649</td>\n",
       "      <td>0.130357</td>\n",
       "      <td>0.111863</td>\n",
       "      <td>0.701040</td>\n",
       "    </tr>\n",
       "    <tr>\n",
       "      <th>2</th>\n",
       "      <td>0.788406</td>\n",
       "      <td>0.762071</td>\n",
       "      <td>0.569434</td>\n",
       "      <td>0.083998</td>\n",
       "      <td>0.735589</td>\n",
       "      <td>0.155337</td>\n",
       "      <td>0.563827</td>\n",
       "      <td>0.829591</td>\n",
       "      <td>0.612884</td>\n",
       "      <td>0.195909</td>\n",
       "      <td>...</td>\n",
       "      <td>0.563708</td>\n",
       "      <td>0.796930</td>\n",
       "      <td>0.905025</td>\n",
       "      <td>0.140355</td>\n",
       "      <td>0.446545</td>\n",
       "      <td>0.880243</td>\n",
       "      <td>0.977864</td>\n",
       "      <td>0.058383</td>\n",
       "      <td>0.623248</td>\n",
       "      <td>0.576799</td>\n",
       "    </tr>\n",
       "    <tr>\n",
       "      <th>3</th>\n",
       "      <td>0.434327</td>\n",
       "      <td>0.613515</td>\n",
       "      <td>0.778861</td>\n",
       "      <td>0.553812</td>\n",
       "      <td>0.988491</td>\n",
       "      <td>0.691556</td>\n",
       "      <td>0.210444</td>\n",
       "      <td>0.479842</td>\n",
       "      <td>0.997336</td>\n",
       "      <td>0.703123</td>\n",
       "      <td>...</td>\n",
       "      <td>0.212224</td>\n",
       "      <td>0.785476</td>\n",
       "      <td>0.179139</td>\n",
       "      <td>0.718206</td>\n",
       "      <td>0.245537</td>\n",
       "      <td>0.639766</td>\n",
       "      <td>0.529303</td>\n",
       "      <td>0.331763</td>\n",
       "      <td>0.369989</td>\n",
       "      <td>0.409349</td>\n",
       "    </tr>\n",
       "    <tr>\n",
       "      <th>4</th>\n",
       "      <td>0.003516</td>\n",
       "      <td>0.362074</td>\n",
       "      <td>0.822823</td>\n",
       "      <td>0.657981</td>\n",
       "      <td>0.571445</td>\n",
       "      <td>0.028453</td>\n",
       "      <td>0.314596</td>\n",
       "      <td>0.341208</td>\n",
       "      <td>0.622841</td>\n",
       "      <td>0.533810</td>\n",
       "      <td>...</td>\n",
       "      <td>0.629280</td>\n",
       "      <td>0.139810</td>\n",
       "      <td>0.787140</td>\n",
       "      <td>0.955269</td>\n",
       "      <td>0.738963</td>\n",
       "      <td>0.218965</td>\n",
       "      <td>0.248672</td>\n",
       "      <td>0.637866</td>\n",
       "      <td>0.098094</td>\n",
       "      <td>0.925609</td>\n",
       "    </tr>\n",
       "  </tbody>\n",
       "</table>\n",
       "<p>5 rows × 100 columns</p>\n",
       "</div>"
      ],
      "text/plain": [
       "         0         1         2         3         4         5         6   \\\n",
       "0  0.208493  0.359014  0.504179  0.029607  0.113707  0.475140  0.434928   \n",
       "1  0.386023  0.810262  0.814432  0.497389  0.021548  0.822415  0.827690   \n",
       "2  0.788406  0.762071  0.569434  0.083998  0.735589  0.155337  0.563827   \n",
       "3  0.434327  0.613515  0.778861  0.553812  0.988491  0.691556  0.210444   \n",
       "4  0.003516  0.362074  0.822823  0.657981  0.571445  0.028453  0.314596   \n",
       "\n",
       "         7         8         9   ...        90        91        92        93  \\\n",
       "0  0.099280  0.604671  0.488544  ...  0.894786  0.932636  0.457053  0.956719   \n",
       "1  0.856744  0.823128  0.605751  ...  0.319145  0.469377  0.835118  0.796439   \n",
       "2  0.829591  0.612884  0.195909  ...  0.563708  0.796930  0.905025  0.140355   \n",
       "3  0.479842  0.997336  0.703123  ...  0.212224  0.785476  0.179139  0.718206   \n",
       "4  0.341208  0.622841  0.533810  ...  0.629280  0.139810  0.787140  0.955269   \n",
       "\n",
       "         94        95        96        97        98        99  \n",
       "0  0.777191  0.635305  0.371690  0.655558  0.119018  0.617986  \n",
       "1  0.245195  0.622804  0.874649  0.130357  0.111863  0.701040  \n",
       "2  0.446545  0.880243  0.977864  0.058383  0.623248  0.576799  \n",
       "3  0.245537  0.639766  0.529303  0.331763  0.369989  0.409349  \n",
       "4  0.738963  0.218965  0.248672  0.637866  0.098094  0.925609  \n",
       "\n",
       "[5 rows x 100 columns]"
      ]
     },
     "execution_count": 15,
     "metadata": {},
     "output_type": "execute_result"
    }
   ],
   "source": [
    "df1 = pd.DataFrame([np.random.random(100) for x in range(100)])\n",
    "df1.head()"
   ]
  },
  {
   "cell_type": "code",
   "execution_count": 16,
   "metadata": {},
   "outputs": [],
   "source": [
    "df2 = pd.DataFrame([np.random.random(100) for x in range(100)])"
   ]
  },
  {
   "cell_type": "code",
   "execution_count": 17,
   "metadata": {},
   "outputs": [],
   "source": [
    "def test_cols(alpha=0.1):\n",
    "    num_diff = 0\n",
    "\n",
    "    for col in df1.columns:\n",
    "        teststat, pval= ttest_ind(df1[col], df2[col])\n",
    "\n",
    "        if pval <= alpha:\n",
    "            num_diff = num_diff + 1\n",
    "            print('Col {} is statistically significant difference at alpha = {} pval = {}'.format(col, pval, alpha))\n",
    "    print('Total number of differences is {}, which is {},'.format(num_diff, float(num_diff)/len(df1.columns)*100))"
   ]
  },
  {
   "cell_type": "code",
   "execution_count": 18,
   "metadata": {},
   "outputs": [
    {
     "name": "stdout",
     "output_type": "stream",
     "text": [
      "Col 41 is statistically significant difference at alpha = 0.0796059371466893 pval = 0.1\n",
      "Col 49 is statistically significant difference at alpha = 0.075618083075013 pval = 0.1\n",
      "Col 58 is statistically significant difference at alpha = 0.005196428562413863 pval = 0.1\n",
      "Col 67 is statistically significant difference at alpha = 0.06020502399977028 pval = 0.1\n",
      "Col 69 is statistically significant difference at alpha = 0.003525630343927758 pval = 0.1\n",
      "Col 88 is statistically significant difference at alpha = 0.050416927520578206 pval = 0.1\n",
      "Total number of differences is 6, which is 6.0,\n"
     ]
    }
   ],
   "source": [
    "test_cols()"
   ]
  },
  {
   "cell_type": "code",
   "execution_count": 19,
   "metadata": {},
   "outputs": [
    {
     "name": "stdout",
     "output_type": "stream",
     "text": [
      "Col 0 is statistically significant difference at alpha = 0.6580273339354109 pval = 0.9\n",
      "Col 2 is statistically significant difference at alpha = 0.21162505928960793 pval = 0.9\n",
      "Col 3 is statistically significant difference at alpha = 0.5983303922331169 pval = 0.9\n",
      "Col 4 is statistically significant difference at alpha = 0.29378288076764975 pval = 0.9\n",
      "Col 5 is statistically significant difference at alpha = 0.21412468723019176 pval = 0.9\n",
      "Col 6 is statistically significant difference at alpha = 0.39709471650120354 pval = 0.9\n",
      "Col 7 is statistically significant difference at alpha = 0.23037115948116213 pval = 0.9\n",
      "Col 8 is statistically significant difference at alpha = 0.3719249506104346 pval = 0.9\n",
      "Col 9 is statistically significant difference at alpha = 0.4295472043577878 pval = 0.9\n",
      "Col 10 is statistically significant difference at alpha = 0.14447552184152138 pval = 0.9\n",
      "Col 11 is statistically significant difference at alpha = 0.860238018935463 pval = 0.9\n",
      "Col 12 is statistically significant difference at alpha = 0.36207316827837 pval = 0.9\n",
      "Col 13 is statistically significant difference at alpha = 0.33761378735832004 pval = 0.9\n",
      "Col 14 is statistically significant difference at alpha = 0.47767705840667907 pval = 0.9\n",
      "Col 15 is statistically significant difference at alpha = 0.6261723564872568 pval = 0.9\n",
      "Col 16 is statistically significant difference at alpha = 0.6904681834433015 pval = 0.9\n",
      "Col 17 is statistically significant difference at alpha = 0.5197539709230238 pval = 0.9\n",
      "Col 18 is statistically significant difference at alpha = 0.45925387627005776 pval = 0.9\n",
      "Col 19 is statistically significant difference at alpha = 0.7254197434782865 pval = 0.9\n",
      "Col 20 is statistically significant difference at alpha = 0.584130805638067 pval = 0.9\n",
      "Col 21 is statistically significant difference at alpha = 0.6277781058672324 pval = 0.9\n",
      "Col 22 is statistically significant difference at alpha = 0.872905030617168 pval = 0.9\n",
      "Col 23 is statistically significant difference at alpha = 0.11428616139512311 pval = 0.9\n",
      "Col 24 is statistically significant difference at alpha = 0.5161003171948446 pval = 0.9\n",
      "Col 25 is statistically significant difference at alpha = 0.618327922803936 pval = 0.9\n",
      "Col 26 is statistically significant difference at alpha = 0.1276906582113733 pval = 0.9\n",
      "Col 27 is statistically significant difference at alpha = 0.25899063675214395 pval = 0.9\n",
      "Col 28 is statistically significant difference at alpha = 0.7564906088331951 pval = 0.9\n",
      "Col 29 is statistically significant difference at alpha = 0.8484191175633125 pval = 0.9\n",
      "Col 30 is statistically significant difference at alpha = 0.8434373941059976 pval = 0.9\n",
      "Col 31 is statistically significant difference at alpha = 0.5847351984599447 pval = 0.9\n",
      "Col 32 is statistically significant difference at alpha = 0.7157796452127038 pval = 0.9\n",
      "Col 33 is statistically significant difference at alpha = 0.5096882884230485 pval = 0.9\n",
      "Col 34 is statistically significant difference at alpha = 0.7511621945377808 pval = 0.9\n",
      "Col 35 is statistically significant difference at alpha = 0.3812320668167657 pval = 0.9\n",
      "Col 36 is statistically significant difference at alpha = 0.13831460571834858 pval = 0.9\n",
      "Col 37 is statistically significant difference at alpha = 0.7300097633868408 pval = 0.9\n",
      "Col 38 is statistically significant difference at alpha = 0.27820476602400107 pval = 0.9\n",
      "Col 39 is statistically significant difference at alpha = 0.4532689034678641 pval = 0.9\n",
      "Col 40 is statistically significant difference at alpha = 0.33398071037437727 pval = 0.9\n",
      "Col 41 is statistically significant difference at alpha = 0.0796059371466893 pval = 0.9\n",
      "Col 42 is statistically significant difference at alpha = 0.26290349364019233 pval = 0.9\n",
      "Col 43 is statistically significant difference at alpha = 0.11944172827149441 pval = 0.9\n",
      "Col 45 is statistically significant difference at alpha = 0.6526853676131696 pval = 0.9\n",
      "Col 46 is statistically significant difference at alpha = 0.5877502526176237 pval = 0.9\n",
      "Col 47 is statistically significant difference at alpha = 0.7752731148276468 pval = 0.9\n",
      "Col 48 is statistically significant difference at alpha = 0.688394216228684 pval = 0.9\n",
      "Col 49 is statistically significant difference at alpha = 0.075618083075013 pval = 0.9\n",
      "Col 50 is statistically significant difference at alpha = 0.34515231223401177 pval = 0.9\n",
      "Col 52 is statistically significant difference at alpha = 0.3715110846033045 pval = 0.9\n",
      "Col 53 is statistically significant difference at alpha = 0.4171657399958819 pval = 0.9\n",
      "Col 54 is statistically significant difference at alpha = 0.4124509880267402 pval = 0.9\n",
      "Col 55 is statistically significant difference at alpha = 0.2616666121609999 pval = 0.9\n",
      "Col 56 is statistically significant difference at alpha = 0.21328119256076408 pval = 0.9\n",
      "Col 58 is statistically significant difference at alpha = 0.005196428562413863 pval = 0.9\n",
      "Col 59 is statistically significant difference at alpha = 0.5409306752923236 pval = 0.9\n",
      "Col 60 is statistically significant difference at alpha = 0.2372604751326721 pval = 0.9\n",
      "Col 61 is statistically significant difference at alpha = 0.7063181600307298 pval = 0.9\n",
      "Col 62 is statistically significant difference at alpha = 0.8336727780569041 pval = 0.9\n",
      "Col 63 is statistically significant difference at alpha = 0.233804162430109 pval = 0.9\n",
      "Col 64 is statistically significant difference at alpha = 0.3137518210427665 pval = 0.9\n",
      "Col 65 is statistically significant difference at alpha = 0.4897114555849934 pval = 0.9\n",
      "Col 67 is statistically significant difference at alpha = 0.06020502399977028 pval = 0.9\n",
      "Col 68 is statistically significant difference at alpha = 0.22749273974417492 pval = 0.9\n",
      "Col 69 is statistically significant difference at alpha = 0.003525630343927758 pval = 0.9\n",
      "Col 70 is statistically significant difference at alpha = 0.26417547597748453 pval = 0.9\n",
      "Col 71 is statistically significant difference at alpha = 0.8216226877931296 pval = 0.9\n",
      "Col 72 is statistically significant difference at alpha = 0.8888425059790204 pval = 0.9\n",
      "Col 73 is statistically significant difference at alpha = 0.630080401373637 pval = 0.9\n",
      "Col 74 is statistically significant difference at alpha = 0.6586841059563352 pval = 0.9\n",
      "Col 75 is statistically significant difference at alpha = 0.627341808153898 pval = 0.9\n",
      "Col 77 is statistically significant difference at alpha = 0.3615503784804567 pval = 0.9\n",
      "Col 78 is statistically significant difference at alpha = 0.6336628924563084 pval = 0.9\n",
      "Col 79 is statistically significant difference at alpha = 0.3806166106072151 pval = 0.9\n",
      "Col 80 is statistically significant difference at alpha = 0.5837755677810267 pval = 0.9\n",
      "Col 81 is statistically significant difference at alpha = 0.7470371256449959 pval = 0.9\n",
      "Col 82 is statistically significant difference at alpha = 0.6549753786395691 pval = 0.9\n",
      "Col 83 is statistically significant difference at alpha = 0.16010751697796202 pval = 0.9\n",
      "Col 84 is statistically significant difference at alpha = 0.7698196578648716 pval = 0.9\n",
      "Col 85 is statistically significant difference at alpha = 0.6789158786818525 pval = 0.9\n",
      "Col 86 is statistically significant difference at alpha = 0.2076914149087186 pval = 0.9\n",
      "Col 87 is statistically significant difference at alpha = 0.3288996119965196 pval = 0.9\n",
      "Col 88 is statistically significant difference at alpha = 0.050416927520578206 pval = 0.9\n",
      "Col 89 is statistically significant difference at alpha = 0.47849993007292213 pval = 0.9\n",
      "Col 90 is statistically significant difference at alpha = 0.7297997274799011 pval = 0.9\n",
      "Col 92 is statistically significant difference at alpha = 0.3011031405343899 pval = 0.9\n",
      "Col 93 is statistically significant difference at alpha = 0.15994819247906528 pval = 0.9\n",
      "Col 94 is statistically significant difference at alpha = 0.25678710083285505 pval = 0.9\n",
      "Col 95 is statistically significant difference at alpha = 0.6248882105568252 pval = 0.9\n",
      "Col 96 is statistically significant difference at alpha = 0.47011619145603534 pval = 0.9\n",
      "Col 98 is statistically significant difference at alpha = 0.7283506453246109 pval = 0.9\n",
      "Col 99 is statistically significant difference at alpha = 0.8184806419897784 pval = 0.9\n",
      "Total number of differences is 92, which is 92.0,\n"
     ]
    }
   ],
   "source": [
    "test_cols(0.9)"
   ]
  },
  {
   "cell_type": "code",
   "execution_count": 20,
   "metadata": {},
   "outputs": [
    {
     "name": "stdout",
     "output_type": "stream",
     "text": [
      "Col 2 is statistically significant difference at alpha = 0.21162505928960793 pval = 0.5\n",
      "Col 4 is statistically significant difference at alpha = 0.29378288076764975 pval = 0.5\n",
      "Col 5 is statistically significant difference at alpha = 0.21412468723019176 pval = 0.5\n",
      "Col 6 is statistically significant difference at alpha = 0.39709471650120354 pval = 0.5\n",
      "Col 7 is statistically significant difference at alpha = 0.23037115948116213 pval = 0.5\n",
      "Col 8 is statistically significant difference at alpha = 0.3719249506104346 pval = 0.5\n",
      "Col 9 is statistically significant difference at alpha = 0.4295472043577878 pval = 0.5\n",
      "Col 10 is statistically significant difference at alpha = 0.14447552184152138 pval = 0.5\n",
      "Col 12 is statistically significant difference at alpha = 0.36207316827837 pval = 0.5\n",
      "Col 13 is statistically significant difference at alpha = 0.33761378735832004 pval = 0.5\n",
      "Col 14 is statistically significant difference at alpha = 0.47767705840667907 pval = 0.5\n",
      "Col 18 is statistically significant difference at alpha = 0.45925387627005776 pval = 0.5\n",
      "Col 23 is statistically significant difference at alpha = 0.11428616139512311 pval = 0.5\n",
      "Col 26 is statistically significant difference at alpha = 0.1276906582113733 pval = 0.5\n",
      "Col 27 is statistically significant difference at alpha = 0.25899063675214395 pval = 0.5\n",
      "Col 35 is statistically significant difference at alpha = 0.3812320668167657 pval = 0.5\n",
      "Col 36 is statistically significant difference at alpha = 0.13831460571834858 pval = 0.5\n",
      "Col 38 is statistically significant difference at alpha = 0.27820476602400107 pval = 0.5\n",
      "Col 39 is statistically significant difference at alpha = 0.4532689034678641 pval = 0.5\n",
      "Col 40 is statistically significant difference at alpha = 0.33398071037437727 pval = 0.5\n",
      "Col 41 is statistically significant difference at alpha = 0.0796059371466893 pval = 0.5\n",
      "Col 42 is statistically significant difference at alpha = 0.26290349364019233 pval = 0.5\n",
      "Col 43 is statistically significant difference at alpha = 0.11944172827149441 pval = 0.5\n",
      "Col 49 is statistically significant difference at alpha = 0.075618083075013 pval = 0.5\n",
      "Col 50 is statistically significant difference at alpha = 0.34515231223401177 pval = 0.5\n",
      "Col 52 is statistically significant difference at alpha = 0.3715110846033045 pval = 0.5\n",
      "Col 53 is statistically significant difference at alpha = 0.4171657399958819 pval = 0.5\n",
      "Col 54 is statistically significant difference at alpha = 0.4124509880267402 pval = 0.5\n",
      "Col 55 is statistically significant difference at alpha = 0.2616666121609999 pval = 0.5\n",
      "Col 56 is statistically significant difference at alpha = 0.21328119256076408 pval = 0.5\n",
      "Col 58 is statistically significant difference at alpha = 0.005196428562413863 pval = 0.5\n",
      "Col 60 is statistically significant difference at alpha = 0.2372604751326721 pval = 0.5\n",
      "Col 63 is statistically significant difference at alpha = 0.233804162430109 pval = 0.5\n",
      "Col 64 is statistically significant difference at alpha = 0.3137518210427665 pval = 0.5\n",
      "Col 65 is statistically significant difference at alpha = 0.4897114555849934 pval = 0.5\n",
      "Col 67 is statistically significant difference at alpha = 0.06020502399977028 pval = 0.5\n",
      "Col 68 is statistically significant difference at alpha = 0.22749273974417492 pval = 0.5\n",
      "Col 69 is statistically significant difference at alpha = 0.003525630343927758 pval = 0.5\n",
      "Col 70 is statistically significant difference at alpha = 0.26417547597748453 pval = 0.5\n",
      "Col 77 is statistically significant difference at alpha = 0.3615503784804567 pval = 0.5\n",
      "Col 79 is statistically significant difference at alpha = 0.3806166106072151 pval = 0.5\n",
      "Col 83 is statistically significant difference at alpha = 0.16010751697796202 pval = 0.5\n",
      "Col 86 is statistically significant difference at alpha = 0.2076914149087186 pval = 0.5\n",
      "Col 87 is statistically significant difference at alpha = 0.3288996119965196 pval = 0.5\n",
      "Col 88 is statistically significant difference at alpha = 0.050416927520578206 pval = 0.5\n",
      "Col 89 is statistically significant difference at alpha = 0.47849993007292213 pval = 0.5\n",
      "Col 92 is statistically significant difference at alpha = 0.3011031405343899 pval = 0.5\n",
      "Col 93 is statistically significant difference at alpha = 0.15994819247906528 pval = 0.5\n",
      "Col 94 is statistically significant difference at alpha = 0.25678710083285505 pval = 0.5\n",
      "Col 96 is statistically significant difference at alpha = 0.47011619145603534 pval = 0.5\n",
      "Total number of differences is 50, which is 50.0,\n"
     ]
    }
   ],
   "source": [
    "test_cols(0.5)\n"
   ]
  },
  {
   "cell_type": "markdown",
   "metadata": {},
   "source": [
    "Other Forms of Structured Data"
   ]
  },
  {
   "cell_type": "code",
   "execution_count": 22,
   "metadata": {},
   "outputs": [
    {
     "data": {
      "text/plain": [
       "46"
      ]
     },
     "execution_count": 22,
     "metadata": {},
     "output_type": "execute_result"
    }
   ],
   "source": [
    "import numpy as np\n",
    "\n",
    "a = np.arange(8)\n",
    "b = a[4:6]\n",
    "b[:] = 40\n",
    "c = a[4] + a[6]\n",
    "c"
   ]
  },
  {
   "cell_type": "code",
   "execution_count": 23,
   "metadata": {},
   "outputs": [],
   "source": [
    "import re\n",
    "s = 'ABCAC'"
   ]
  },
  {
   "cell_type": "code",
   "execution_count": 25,
   "metadata": {},
   "outputs": [
    {
     "data": {
      "text/plain": [
       "False"
      ]
     },
     "execution_count": 25,
     "metadata": {},
     "output_type": "execute_result"
    }
   ],
   "source": [
    "re.match('A', s) == True"
   ]
  },
  {
   "cell_type": "code",
   "execution_count": 33,
   "metadata": {},
   "outputs": [
    {
     "name": "stdout",
     "output_type": "stream",
     "text": [
      "<function result at 0x000001DEB0CF58B0>\n"
     ]
    }
   ],
   "source": [
    "def result():\n",
    "    s = 'ACAABAACAAABACDBADDDFSDDDFFSSSASDAFAAACBAAAFASD'\n",
    "\n",
    "    result = []\n",
    "    # compete the pattern below\n",
    "    pattern = df.index[0]\n",
    "    for item in re.finditer(pattern, s):\n",
    "      # identify the group number below.\n",
    "      result.append(item.group())\n",
    "      \n",
    "    return result\n",
    "\n",
    "print(result)"
   ]
  },
  {
   "cell_type": "code",
   "execution_count": 34,
   "metadata": {},
   "outputs": [],
   "source": [
    "S = pd.Series(np.arange(5), index=['a', 'b', 'c', 'd', 'e'])"
   ]
  },
  {
   "cell_type": "code",
   "execution_count": 35,
   "metadata": {},
   "outputs": [
    {
     "data": {
      "text/plain": [
       "b    1\n",
       "c    2\n",
       "d    3\n",
       "e    4\n",
       "dtype: int32"
      ]
     },
     "execution_count": 35,
     "metadata": {},
     "output_type": "execute_result"
    }
   ],
   "source": [
    "S['b':'e']"
   ]
  },
  {
   "cell_type": "code",
   "execution_count": 36,
   "metadata": {},
   "outputs": [
    {
     "data": {
      "text/plain": [
       "b    1\n",
       "c    2\n",
       "d    3\n",
       "dtype: int32"
      ]
     },
     "execution_count": 36,
     "metadata": {},
     "output_type": "execute_result"
    }
   ],
   "source": [
    "S[['b', 'c', 'd']]"
   ]
  },
  {
   "cell_type": "code",
   "execution_count": 37,
   "metadata": {},
   "outputs": [
    {
     "data": {
      "text/plain": [
       "b    1\n",
       "c    2\n",
       "d    3\n",
       "dtype: int32"
      ]
     },
     "execution_count": 37,
     "metadata": {},
     "output_type": "execute_result"
    }
   ],
   "source": [
    "S[S <= 3][S > 0]"
   ]
  },
  {
   "cell_type": "code",
   "execution_count": 38,
   "metadata": {},
   "outputs": [
    {
     "data": {
      "text/plain": [
       "b    1\n",
       "c    2\n",
       "d    3\n",
       "dtype: int32"
      ]
     },
     "execution_count": 38,
     "metadata": {},
     "output_type": "execute_result"
    }
   ],
   "source": [
    "S[1:4]"
   ]
  },
  {
   "cell_type": "code",
   "execution_count": 39,
   "metadata": {},
   "outputs": [],
   "source": [
    "f = lambda x: x.max() + x.min()\n",
    "df_new = df.apply(f)"
   ]
  },
  {
   "cell_type": "code",
   "execution_count": 40,
   "metadata": {},
   "outputs": [
    {
     "data": {
      "text/plain": [
       "student_id                FFDF2B2C-F514-EF7F-6538-A6A53518E9DC1026AC75-5...\n",
       "assignment1_grade                                                 115.11888\n",
       "assignment1_submission    2016-08-07 18:57:16.8250000002015-09-14 23:46:...\n",
       "assignment2_grade                                                112.917173\n",
       "assignment2_submission    2016-08-14 11:56:52.1340000002015-09-15 00:26:...\n",
       "assignment3_grade                                                111.963495\n",
       "assignment3_submission    2016-08-21 16:41:13.1700000002015-09-17 01:54:...\n",
       "assignment4_grade                                                107.881959\n",
       "assignment4_submission    2016-08-19 04:38:31.4740000002015-09-15 02:36:...\n",
       "assignment5_grade                                                 105.78527\n",
       "assignment5_submission    2016-08-26 15:35:47.6700000002015-09-15 02:56:...\n",
       "assignment6_grade                                                104.963917\n",
       "assignment6_submission    2016-08-27 20:35:37.4910000002015-09-17 18:38:...\n",
       "dtype: object"
      ]
     },
     "execution_count": 40,
     "metadata": {},
     "output_type": "execute_result"
    }
   ],
   "source": [
    "df_new"
   ]
  },
  {
   "cell_type": "code",
   "execution_count": null,
   "metadata": {},
   "outputs": [],
   "source": []
  }
 ],
 "metadata": {
  "kernelspec": {
   "display_name": "Python 3.9.12 ('tf')",
   "language": "python",
   "name": "python3"
  },
  "language_info": {
   "codemirror_mode": {
    "name": "ipython",
    "version": 3
   },
   "file_extension": ".py",
   "mimetype": "text/x-python",
   "name": "python",
   "nbconvert_exporter": "python",
   "pygments_lexer": "ipython3",
   "version": "3.9.12"
  },
  "orig_nbformat": 4,
  "vscode": {
   "interpreter": {
    "hash": "93a850cdd8e1ced0015abffd1c74857b7727d52a3b5bd3cee8894c4cf53924e5"
   }
  }
 },
 "nbformat": 4,
 "nbformat_minor": 2
}
